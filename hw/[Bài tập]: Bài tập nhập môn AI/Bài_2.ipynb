{
  "cells": [
    {
      "cell_type": "markdown",
      "metadata": {
        "id": "sHHlNFxGEpwi"
      },
      "source": [
        "**Medical Cost Personal Dataset** (insurance.csv):\n",
        "\n",
        "- Tập dữ liệu này mô tả thông tin về số tiền bảo hiểm y tế nhận được của mỗi cá nhân:\n",
        "- Các trường dữ liệu:\n",
        "    - 'age': số tuổi của người đăng ký bảo hiểm\n",
        "    - 'sex': giới tính\n",
        "    - 'bmi': chỉ số Body mass index (cung cấp thông tin hiểu biết về cân thể dựa trên cân nặng, chiều cao)\n",
        "    - 'children': số lượng con trẻ tham gia bảo hiểm y tế\n",
        "    - 'smoker': tình trạng hút thuốc\n",
        "    - 'regions': khu vực cư trú ở Mỹ\n",
        "    - 'charges': chi phí cá nhân mà bảo hiểm y tế thanh toán\n",
        "- Để đảm bảo tính thống nhất trong các quá trình ngẫu nhiên, các bạn chọn giá trị **random_state** = 42."
      ]
    },
    {
      "cell_type": "code",
      "execution_count": null,
      "metadata": {
        "id": "H_ZP35yfEpwo"
      },
      "outputs": [],
      "source": [
        "# Import các thư viện\n",
        "import numpy as np\n",
        "import pandas as pd\n",
        "import seaborn as sns\n",
        "import matplotlib.pyplot as plt\n",
        "\n",
        "random_state = 42"
      ]
    },
    {
      "cell_type": "code",
      "execution_count": null,
      "metadata": {
        "id": "4yz8xwcXEpwl",
        "outputId": "9f8aed0b-ad40-4bdf-b0a1-dea73d55b08c",
        "colab": {
          "base_uri": "https://localhost:8080/",
          "height": 206
        }
      },
      "outputs": [
        {
          "output_type": "execute_result",
          "data": {
            "text/plain": [
              "   age     sex     bmi  children smoker     region      charges\n",
              "0   19  female  27.900         0    yes  southwest  16884.92400\n",
              "1   18    male  33.770         1     no  southeast   1725.55230\n",
              "2   28    male  33.000         3     no  southeast   4449.46200\n",
              "3   33    male  22.705         0     no  northwest  21984.47061\n",
              "4   32    male  28.880         0     no  northwest   3866.85520"
            ],
            "text/html": [
              "\n",
              "\n",
              "  <div id=\"df-1f3b733a-e084-44a9-b7b3-bca497c95609\">\n",
              "    <div class=\"colab-df-container\">\n",
              "      <div>\n",
              "<style scoped>\n",
              "    .dataframe tbody tr th:only-of-type {\n",
              "        vertical-align: middle;\n",
              "    }\n",
              "\n",
              "    .dataframe tbody tr th {\n",
              "        vertical-align: top;\n",
              "    }\n",
              "\n",
              "    .dataframe thead th {\n",
              "        text-align: right;\n",
              "    }\n",
              "</style>\n",
              "<table border=\"1\" class=\"dataframe\">\n",
              "  <thead>\n",
              "    <tr style=\"text-align: right;\">\n",
              "      <th></th>\n",
              "      <th>age</th>\n",
              "      <th>sex</th>\n",
              "      <th>bmi</th>\n",
              "      <th>children</th>\n",
              "      <th>smoker</th>\n",
              "      <th>region</th>\n",
              "      <th>charges</th>\n",
              "    </tr>\n",
              "  </thead>\n",
              "  <tbody>\n",
              "    <tr>\n",
              "      <th>0</th>\n",
              "      <td>19</td>\n",
              "      <td>female</td>\n",
              "      <td>27.900</td>\n",
              "      <td>0</td>\n",
              "      <td>yes</td>\n",
              "      <td>southwest</td>\n",
              "      <td>16884.92400</td>\n",
              "    </tr>\n",
              "    <tr>\n",
              "      <th>1</th>\n",
              "      <td>18</td>\n",
              "      <td>male</td>\n",
              "      <td>33.770</td>\n",
              "      <td>1</td>\n",
              "      <td>no</td>\n",
              "      <td>southeast</td>\n",
              "      <td>1725.55230</td>\n",
              "    </tr>\n",
              "    <tr>\n",
              "      <th>2</th>\n",
              "      <td>28</td>\n",
              "      <td>male</td>\n",
              "      <td>33.000</td>\n",
              "      <td>3</td>\n",
              "      <td>no</td>\n",
              "      <td>southeast</td>\n",
              "      <td>4449.46200</td>\n",
              "    </tr>\n",
              "    <tr>\n",
              "      <th>3</th>\n",
              "      <td>33</td>\n",
              "      <td>male</td>\n",
              "      <td>22.705</td>\n",
              "      <td>0</td>\n",
              "      <td>no</td>\n",
              "      <td>northwest</td>\n",
              "      <td>21984.47061</td>\n",
              "    </tr>\n",
              "    <tr>\n",
              "      <th>4</th>\n",
              "      <td>32</td>\n",
              "      <td>male</td>\n",
              "      <td>28.880</td>\n",
              "      <td>0</td>\n",
              "      <td>no</td>\n",
              "      <td>northwest</td>\n",
              "      <td>3866.85520</td>\n",
              "    </tr>\n",
              "  </tbody>\n",
              "</table>\n",
              "</div>\n",
              "      <button class=\"colab-df-convert\" onclick=\"convertToInteractive('df-1f3b733a-e084-44a9-b7b3-bca497c95609')\"\n",
              "              title=\"Convert this dataframe to an interactive table.\"\n",
              "              style=\"display:none;\">\n",
              "\n",
              "  <svg xmlns=\"http://www.w3.org/2000/svg\" height=\"24px\"viewBox=\"0 0 24 24\"\n",
              "       width=\"24px\">\n",
              "    <path d=\"M0 0h24v24H0V0z\" fill=\"none\"/>\n",
              "    <path d=\"M18.56 5.44l.94 2.06.94-2.06 2.06-.94-2.06-.94-.94-2.06-.94 2.06-2.06.94zm-11 1L8.5 8.5l.94-2.06 2.06-.94-2.06-.94L8.5 2.5l-.94 2.06-2.06.94zm10 10l.94 2.06.94-2.06 2.06-.94-2.06-.94-.94-2.06-.94 2.06-2.06.94z\"/><path d=\"M17.41 7.96l-1.37-1.37c-.4-.4-.92-.59-1.43-.59-.52 0-1.04.2-1.43.59L10.3 9.45l-7.72 7.72c-.78.78-.78 2.05 0 2.83L4 21.41c.39.39.9.59 1.41.59.51 0 1.02-.2 1.41-.59l7.78-7.78 2.81-2.81c.8-.78.8-2.07 0-2.86zM5.41 20L4 18.59l7.72-7.72 1.47 1.35L5.41 20z\"/>\n",
              "  </svg>\n",
              "      </button>\n",
              "\n",
              "\n",
              "\n",
              "    <div id=\"df-b779ab3a-3b11-48f2-9c7b-5ea45b2e1798\">\n",
              "      <button class=\"colab-df-quickchart\" onclick=\"quickchart('df-b779ab3a-3b11-48f2-9c7b-5ea45b2e1798')\"\n",
              "              title=\"Suggest charts.\"\n",
              "              style=\"display:none;\">\n",
              "\n",
              "<svg xmlns=\"http://www.w3.org/2000/svg\" height=\"24px\"viewBox=\"0 0 24 24\"\n",
              "     width=\"24px\">\n",
              "    <g>\n",
              "        <path d=\"M19 3H5c-1.1 0-2 .9-2 2v14c0 1.1.9 2 2 2h14c1.1 0 2-.9 2-2V5c0-1.1-.9-2-2-2zM9 17H7v-7h2v7zm4 0h-2V7h2v10zm4 0h-2v-4h2v4z\"/>\n",
              "    </g>\n",
              "</svg>\n",
              "      </button>\n",
              "    </div>\n",
              "\n",
              "<style>\n",
              "  .colab-df-quickchart {\n",
              "    background-color: #E8F0FE;\n",
              "    border: none;\n",
              "    border-radius: 50%;\n",
              "    cursor: pointer;\n",
              "    display: none;\n",
              "    fill: #1967D2;\n",
              "    height: 32px;\n",
              "    padding: 0 0 0 0;\n",
              "    width: 32px;\n",
              "  }\n",
              "\n",
              "  .colab-df-quickchart:hover {\n",
              "    background-color: #E2EBFA;\n",
              "    box-shadow: 0px 1px 2px rgba(60, 64, 67, 0.3), 0px 1px 3px 1px rgba(60, 64, 67, 0.15);\n",
              "    fill: #174EA6;\n",
              "  }\n",
              "\n",
              "  [theme=dark] .colab-df-quickchart {\n",
              "    background-color: #3B4455;\n",
              "    fill: #D2E3FC;\n",
              "  }\n",
              "\n",
              "  [theme=dark] .colab-df-quickchart:hover {\n",
              "    background-color: #434B5C;\n",
              "    box-shadow: 0px 1px 3px 1px rgba(0, 0, 0, 0.15);\n",
              "    filter: drop-shadow(0px 1px 2px rgba(0, 0, 0, 0.3));\n",
              "    fill: #FFFFFF;\n",
              "  }\n",
              "</style>\n",
              "\n",
              "    <script>\n",
              "      async function quickchart(key) {\n",
              "        const containerElement = document.querySelector('#' + key);\n",
              "        const charts = await google.colab.kernel.invokeFunction(\n",
              "            'suggestCharts', [key], {});\n",
              "      }\n",
              "    </script>\n",
              "\n",
              "      <script>\n",
              "\n",
              "function displayQuickchartButton(domScope) {\n",
              "  let quickchartButtonEl =\n",
              "    domScope.querySelector('#df-b779ab3a-3b11-48f2-9c7b-5ea45b2e1798 button.colab-df-quickchart');\n",
              "  quickchartButtonEl.style.display =\n",
              "    google.colab.kernel.accessAllowed ? 'block' : 'none';\n",
              "}\n",
              "\n",
              "        displayQuickchartButton(document);\n",
              "      </script>\n",
              "      <style>\n",
              "    .colab-df-container {\n",
              "      display:flex;\n",
              "      flex-wrap:wrap;\n",
              "      gap: 12px;\n",
              "    }\n",
              "\n",
              "    .colab-df-convert {\n",
              "      background-color: #E8F0FE;\n",
              "      border: none;\n",
              "      border-radius: 50%;\n",
              "      cursor: pointer;\n",
              "      display: none;\n",
              "      fill: #1967D2;\n",
              "      height: 32px;\n",
              "      padding: 0 0 0 0;\n",
              "      width: 32px;\n",
              "    }\n",
              "\n",
              "    .colab-df-convert:hover {\n",
              "      background-color: #E2EBFA;\n",
              "      box-shadow: 0px 1px 2px rgba(60, 64, 67, 0.3), 0px 1px 3px 1px rgba(60, 64, 67, 0.15);\n",
              "      fill: #174EA6;\n",
              "    }\n",
              "\n",
              "    [theme=dark] .colab-df-convert {\n",
              "      background-color: #3B4455;\n",
              "      fill: #D2E3FC;\n",
              "    }\n",
              "\n",
              "    [theme=dark] .colab-df-convert:hover {\n",
              "      background-color: #434B5C;\n",
              "      box-shadow: 0px 1px 3px 1px rgba(0, 0, 0, 0.15);\n",
              "      filter: drop-shadow(0px 1px 2px rgba(0, 0, 0, 0.3));\n",
              "      fill: #FFFFFF;\n",
              "    }\n",
              "  </style>\n",
              "\n",
              "      <script>\n",
              "        const buttonEl =\n",
              "          document.querySelector('#df-1f3b733a-e084-44a9-b7b3-bca497c95609 button.colab-df-convert');\n",
              "        buttonEl.style.display =\n",
              "          google.colab.kernel.accessAllowed ? 'block' : 'none';\n",
              "\n",
              "        async function convertToInteractive(key) {\n",
              "          const element = document.querySelector('#df-1f3b733a-e084-44a9-b7b3-bca497c95609');\n",
              "          const dataTable =\n",
              "            await google.colab.kernel.invokeFunction('convertToInteractive',\n",
              "                                                     [key], {});\n",
              "          if (!dataTable) return;\n",
              "\n",
              "          const docLinkHtml = 'Like what you see? Visit the ' +\n",
              "            '<a target=\"_blank\" href=https://colab.research.google.com/notebooks/data_table.ipynb>data table notebook</a>'\n",
              "            + ' to learn more about interactive tables.';\n",
              "          element.innerHTML = '';\n",
              "          dataTable['output_type'] = 'display_data';\n",
              "          await google.colab.output.renderOutput(dataTable, element);\n",
              "          const docLink = document.createElement('div');\n",
              "          docLink.innerHTML = docLinkHtml;\n",
              "          element.appendChild(docLink);\n",
              "        }\n",
              "      </script>\n",
              "    </div>\n",
              "  </div>\n"
            ]
          },
          "metadata": {},
          "execution_count": 1
        }
      ],
      "source": [
        "# Upload file insurance.csv lên thư mục contents/ của colab\n",
        "df = pd.read_csv(\"insurance.csv\")\n",
        "df.head()"
      ]
    },
    {
      "cell_type": "markdown",
      "metadata": {
        "id": "zrz0ajswEpwq"
      },
      "source": [
        "**Bài 1. Tìm hiểu dữ liệu**\n",
        "**Sử dụng Pandas**\n"
      ]
    },
    {
      "cell_type": "markdown",
      "metadata": {
        "id": "ix7P4635Epwr"
      },
      "source": [
        "1.1 In ra mô tả số liệu của dữ liệu (descriptive statistics)."
      ]
    },
    {
      "cell_type": "code",
      "execution_count": null,
      "metadata": {
        "id": "jSNDssQAEpws"
      },
      "outputs": [],
      "source": [
        "# Gợi ý: info, discribe\n",
        "### Code của bạn bắt đầu ở đây ###\n",
        "\n",
        "\n",
        "### Code của bạn kết thúc ở đây ###"
      ]
    },
    {
      "cell_type": "markdown",
      "metadata": {
        "id": "cAmM5OXAEpwt"
      },
      "source": [
        "1.2 Kiểm tra xem dữ liệu có missing value không? Nếu có hãy điền theo giá trị trung bình (mean).\n",
        "  "
      ]
    },
    {
      "cell_type": "code",
      "execution_count": null,
      "metadata": {
        "id": "zPT7io1_Epwv"
      },
      "outputs": [],
      "source": [
        "# Gợi ý: isnull, fillna\n",
        "### Code của bạn bắt đầu ở đây ###\n",
        "\n",
        "\n",
        "### Code của bạn kết thúc ở đây ###"
      ]
    },
    {
      "cell_type": "markdown",
      "source": [
        "1.3 Kiểm tra xem dữ liệu có mẫu nào bị trùng lặp không? Nếu có hãy loại bỏ."
      ],
      "metadata": {
        "id": "G_GnQcpg-Ir_"
      }
    },
    {
      "cell_type": "code",
      "source": [
        "# Gợi ý: duplicated\n",
        "### Code của bạn bắt đầu ở đây ###\n",
        "\n",
        "\n",
        "### Code của bạn kết thúc ở đây ###"
      ],
      "metadata": {
        "id": "Hmr64SmY-Kfk"
      },
      "execution_count": null,
      "outputs": []
    },
    {
      "cell_type": "markdown",
      "metadata": {
        "id": "3KjBpu3MEpww"
      },
      "source": [
        "**Bài 2: Visualization sử dụng Seaborn**\n"
      ]
    },
    {
      "cell_type": "markdown",
      "metadata": {
        "id": "z1FK4ydlEpwx"
      },
      "source": [
        "2.1 Vẽ biểu đồ cột các giá trị của **sex**, **smoker**."
      ]
    },
    {
      "cell_type": "code",
      "execution_count": null,
      "metadata": {
        "id": "4cyBDTm9Epwy"
      },
      "outputs": [],
      "source": [
        "# Gợi ý: countplot của Seaborn\n",
        "### Code của bạn bắt đầu ở đây ###\n",
        "sns.countplot(data = , x = )\n",
        "### Code của bạn kết thúc ở đây ###"
      ]
    },
    {
      "cell_type": "markdown",
      "metadata": {
        "id": "WyIb_-7XEpwz"
      },
      "source": [
        "2.2 Vẽ biểu đồ histogram biểu thị phân phối của **age**, **bmi**, **children** và **charges**.\n"
      ]
    },
    {
      "cell_type": "code",
      "execution_count": null,
      "metadata": {
        "id": "qGtDos9AEpw0"
      },
      "outputs": [],
      "source": [
        "# Gợi ý: histogram của Pandas\n",
        "### Code của bạn bắt đầu ở đây ###\n",
        "columns =\n",
        "df[columns].hist(figsize=(12,9))\n",
        "### Code của bạn kết thúc ở đây ###"
      ]
    },
    {
      "cell_type": "markdown",
      "metadata": {
        "id": "8wrjuJ0JEpw0"
      },
      "source": [
        "2.3 Vẽ biểu đồ nhiệt (heat map) của ma trận tương quan (correlation matrix) giữa các trường dữ liệu numberic.\n"
      ]
    },
    {
      "cell_type": "code",
      "execution_count": null,
      "metadata": {
        "id": "8IqPGwYFEpw2"
      },
      "outputs": [],
      "source": [
        "# Gợi ý: heatmap của Seaborn\n",
        "### Code của bạn bắt đầu ở đây ###\n",
        "corr_matrix =\n",
        "plt.figure(figsize=(8,5))\n",
        "sns.heatmap(...)\n",
        "### Code của bạn kết thúc ở đây ###"
      ]
    },
    {
      "cell_type": "markdown",
      "metadata": {
        "id": "GagEWKBDEpw3"
      },
      "source": [
        "\n",
        "2.4 Vẽ biểu đồ hộp của các cột kiểu Category đối với cột **charges**\n"
      ]
    },
    {
      "cell_type": "code",
      "execution_count": null,
      "metadata": {
        "id": "XzzLIgovEpw3"
      },
      "outputs": [],
      "source": [
        "# Gợi ý: sử dụng vòng lặp for duyệt qua các trường dữ liệu và dùng boxplot của Seaborn để vẽ\n",
        "### Code của bạn bắt đầu ở đây ###\n",
        "categorical =\n",
        "for cat in categorical:\n",
        "    sns.boxplot(data = , x = , y = )\n",
        "    plt.title(f\"{cat} and charges\")\n",
        "    plt.show()\n",
        "### Code của bạn kết thúc ở đây ###"
      ]
    },
    {
      "cell_type": "markdown",
      "source": [
        "**Bài tập về nhà**\n",
        "\n",
        "Xây dựng mô hình hồi quy tuyến tính để dự đoán **charges** dựa trên các trường dữ liệu khác\n",
        "\n",
        "- Encode các trường dữ liệu dạng categorical\n",
        "- Chuẩn hóa dữ liệu\n",
        "- Chia train, val, test (test chiếm 20%)\n",
        "- Xây dựng, chọn tham số và huấn luyện mô hình\n",
        "- Đánh giá mô hình (sử dụng MSE)"
      ],
      "metadata": {
        "id": "5t1_zSBxEQ4E"
      }
    }
  ],
  "metadata": {
    "kernelspec": {
      "display_name": "Python 3",
      "language": "python",
      "name": "python3"
    },
    "language_info": {
      "codemirror_mode": {
        "name": "ipython",
        "version": 3
      },
      "file_extension": ".py",
      "mimetype": "text/x-python",
      "name": "python",
      "nbconvert_exporter": "python",
      "pygments_lexer": "ipython3",
      "version": "3.6.9"
    },
    "colab": {
      "provenance": [],
      "toc_visible": true
    }
  },
  "nbformat": 4,
  "nbformat_minor": 0
}